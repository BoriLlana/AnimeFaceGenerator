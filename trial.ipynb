{
 "cells": [
  {
   "cell_type": "code",
   "execution_count": 2,
   "metadata": {},
   "outputs": [],
   "source": [
    "%%capture\n",
    "#Surpress ugly output.\n",
    "\n",
    "#Install datasets from huggingface.\n",
    "#!pip install datasets\n",
    "import torch     # PyTorch\n",
    "import datasets  # Huggingface Datasets; actual data\n",
    "\n",
    "import random\n",
    "\n",
    "#Architecture\n",
    "from torch import nn as nn\n",
    "\n",
    "#Plot\n",
    "import matplotlib.pyplot as plt\n",
    "%matplotlib inline\n",
    "import numpy as np"
   ]
  },
  {
   "cell_type": "code",
   "execution_count": 3,
   "metadata": {},
   "outputs": [],
   "source": [
    "device = torch.device('cuda' if torch.cuda.is_available() else 'cpu')"
   ]
  },
  {
   "cell_type": "code",
   "execution_count": 4,
   "metadata": {},
   "outputs": [],
   "source": [
    "class Generator(nn.Module):\n",
    "    def __init__(self, nl, hs, ks, stride, pad):\n",
    "        super().__init__()\n",
    "        self.layers = nn.ModuleList()\n",
    "        self.layers.append(nn.Sequential(\n",
    "                nn.ConvTranspose2d(100, hs*(2**(nl-3)), kernel_size=ks, stride=1, padding=0, bias=False),\n",
    "                nn.BatchNorm2d(hs*(2**(nl-3))),\n",
    "                nn.ReLU()\n",
    "            ))\n",
    "        for i in range(2, nl-1):\n",
    "            self.layers.append(nn.Sequential(\n",
    "                nn.ConvTranspose2d((int)((hs*(2**(nl-1)))/(2**i)), #in dimension\n",
    "                                   (int)((hs*(2**(nl-1)))/(2*2**i)), #out dimension\n",
    "                                   kernel_size=ks, stride=stride, padding=pad, bias=False),\n",
    "                nn.BatchNorm2d((int)((hs*(2**(nl-1)))/(2*2**i))), #out dimension\n",
    "                nn.ReLU()\n",
    "            ))\n",
    "        #output layer\n",
    "        self.layers.append(nn.Sequential(\n",
    "                nn.ConvTranspose2d(hs, 3, kernel_size=ks, stride=stride, padding=pad, bias=False),\n",
    "                nn.Tanh()\n",
    "            ))\n",
    "        \n",
    "    #forward pass, calls the class init\n",
    "    def forward(self, x):\n",
    "        for layer in self.layers:\n",
    "            print('layer:', layer)\n",
    "            print('before shape:', x.shape)\n",
    "            x = layer(x)\n",
    "            print('after shape', x.shape, '/n')\n",
    "        return x"
   ]
  },
  {
   "cell_type": "code",
   "execution_count": 5,
   "metadata": {},
   "outputs": [],
   "source": [
    "generator = torch.load('./best_model_gen.pt', map_location=torch.device('cpu'))"
   ]
  },
  {
   "cell_type": "code",
   "execution_count": null,
   "metadata": {},
   "outputs": [],
   "source": [
    "#!pip install gradio\n",
    "import gradio as gr\n",
    "from torchvision.utils import save_image\n",
    "\n",
    "def generate_image(seed):\n",
    "    #torch.manual_seed(seed)\n",
    "    noise = torch.randn(1, 100, 1, 1, device=device) #initial random noise\n",
    "    generated = generator(noise)\n",
    "    gem = np.rot90(np.swapaxes((generated[0].to('cpu').detach().numpy()), 0, 2), 3)\n",
    "    return gem\n",
    "\n",
    "gradio_demo = gr.Interface(\n",
    "    fn = generate_image,\n",
    "    inputs = [\n",
    "        gr.Slider(0,999,label='Seed', default=0),\n",
    "    ],\n",
    "    outputs = \"image\",\n",
    "    title=\"Waifu generator\",\n",
    "    description=\"Anime face generator using GANs\",\n",
    ")"
   ]
  },
  {
   "attachments": {},
   "cell_type": "markdown",
   "metadata": {},
   "source": [
    "Run the next line of code to create a share link for the gradio demo"
   ]
  },
  {
   "cell_type": "code",
   "execution_count": null,
   "metadata": {},
   "outputs": [],
   "source": [
    "gradio_demo.launch(share=True)"
   ]
  },
  {
   "attachments": {},
   "cell_type": "markdown",
   "metadata": {},
   "source": [
    "Run the next line of code to NOT create a share link for the gradio demo"
   ]
  },
  {
   "cell_type": "code",
   "execution_count": null,
   "metadata": {},
   "outputs": [],
   "source": [
    "gradio_demo.launch()"
   ]
  }
 ],
 "metadata": {
  "kernelspec": {
   "display_name": "Python 3",
   "language": "python",
   "name": "python3"
  },
  "language_info": {
   "codemirror_mode": {
    "name": "ipython",
    "version": 3
   },
   "file_extension": ".py",
   "mimetype": "text/x-python",
   "name": "python",
   "nbconvert_exporter": "python",
   "pygments_lexer": "ipython3",
   "version": "3.9.6"
  },
  "orig_nbformat": 4
 },
 "nbformat": 4,
 "nbformat_minor": 2
}
